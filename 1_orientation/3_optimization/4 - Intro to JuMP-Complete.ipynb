{
 "cells": [
  {
   "cell_type": "markdown",
   "metadata": {},
   "source": [
    "# What is JuMP?\n",
    "\n",
    "JuMP is a _modeling language_ for optimization problems, writen in Julia. \n",
    "\n",
    "When solving an optimization problem, you should use a _solver_ :  a software implementation of an optimization algorithm. Solvers typically need the problem to be written in a very specific format, which can be time-consuming and confusing.\n",
    "\n",
    "A modeling language (like JuMP) lets you code an optimization problem in a more natural way. It does the translation to the low-level solver format for you.\n",
    "\n",
    "There are a number of modeling languages out there. Why JuMP?\n",
    "\n",
    "* User-friendly\n",
    "* Matches performance of competitors\n",
    "* Solver-independent\n",
    "* Easy to extend and take advantage of advanced features\n",
    "\n",
    "\n",
    "# Installing JuMP\n",
    "\n",
    "To install JuMP, just run"
   ]
  },
  {
   "cell_type": "code",
   "execution_count": null,
   "metadata": {},
   "outputs": [],
   "source": [
    "#import Pkg\n",
    "#Pkg.add(\"JuMP\")"
   ]
  },
  {
   "cell_type": "markdown",
   "metadata": {},
   "source": [
    "We already did this in the preassignment. To actually solve a problem, we will also need to install a solver package. There are 15+ options exposed in julia, each with support for different problem classes, different performance profiles, licensing requirements, etc. For the preassignment, we installed Gurobi, a best-of-breed linear/integer programming solver with a generous academic license."
   ]
  },
  {
   "cell_type": "code",
   "execution_count": null,
   "metadata": {},
   "outputs": [],
   "source": [
    "#Pkg.add(\"Gurobi\")"
   ]
  },
  {
   "cell_type": "markdown",
   "metadata": {},
   "source": [
    "# A first example\n",
    "Let's see how we translate a simple, 2 variable LP to JuMP code.\n",
    "\n",
    "$$\n",
    "\\begin{align*}\n",
    "\\max_{x,y} \\quad& x + 2y \\\\\n",
    "\\text{s.t.}\\quad& x + y \\leq 1 \\\\\n",
    "& x, y \\geq 0.\n",
    "\\end{align*}\n",
    "$$\n",
    "\n",
    "First, we load the JuMP and Gurobi libraries."
   ]
  },
  {
   "cell_type": "code",
   "execution_count": 1,
   "metadata": {},
   "outputs": [
    {
     "name": "stderr",
     "output_type": "stream",
     "text": [
      "┌ Info: Recompiling stale cache file C:\\Users\\Sofiane\\.julia\\compiled\\v1.2\\JuMP\\DmXqY.ji for JuMP [4076af6c-e467-56ae-b986-b466b2749572]\n",
      "└ @ Base loading.jl:1240\n"
     ]
    }
   ],
   "source": [
    "using JuMP, Gurobi"
   ]
  },
  {
   "cell_type": "markdown",
   "metadata": {},
   "source": [
    "Next, we construct a model object. This is a container for everything in our optimization problem: variables, constraints, solver options, etc.\n",
    "Note that when we specify the solver we can also pass additional arguments (depending on the solver we choose). \n",
    "If you're experimenting with an optimization model, it's generally a good idea to set a short time limit for the solver calculations. This will (hopefully) force the solver to stop running if you accidentally pass it a very large model that it can't solve. "
   ]
  },
  {
   "cell_type": "code",
   "execution_count": 2,
   "metadata": {},
   "outputs": [
    {
     "name": "stdout",
     "output_type": "stream",
     "text": [
      "Academic license - for non-commercial use only\r\n"
     ]
    },
    {
     "data": {
      "text/latex": [
       "$$ \\begin{alignat*}{1}\\text{feasibility}\\\\\n",
       "\\text{Subject to} \\quad\\end{alignat*}\n",
       " $$"
      ],
      "text/plain": [
       "A JuMP Model\n",
       "Feasibility problem with:\n",
       "Variables: 0\n",
       "Model mode: AUTOMATIC\n",
       "CachingOptimizer state: EMPTY_OPTIMIZER\n",
       "Solver name: Gurobi"
      ]
     },
     "execution_count": 2,
     "metadata": {},
     "output_type": "execute_result"
    }
   ],
   "source": [
    "model = Model(with_optimizer(Gurobi.Optimizer,TimeLimit=60))"
   ]
  },
  {
   "cell_type": "markdown",
   "metadata": {},
   "source": [
    "Next, we define the two decision variables in our optimization problem. We will use the ``@variable`` macro (a fancy function, essentially). The first argument is the model object to attach the variable to, and the second specifies the variable name and any bounds."
   ]
  },
  {
   "cell_type": "code",
   "execution_count": null,
   "metadata": {},
   "outputs": [],
   "source": [
    "@variable(model, x >= 0)\n",
    "@variable(model, y >= 0)"
   ]
  },
  {
   "cell_type": "code",
   "execution_count": null,
   "metadata": {},
   "outputs": [],
   "source": [
    "model"
   ]
  },
  {
   "cell_type": "markdown",
   "metadata": {},
   "source": [
    "We now add the single constraint of our problem using the ``@constraint`` macro. We write it algebraically, exactly as we see it above."
   ]
  },
  {
   "cell_type": "code",
   "execution_count": null,
   "metadata": {},
   "outputs": [],
   "source": [
    "@constraint(model, x + y <= 1)\n",
    "model"
   ]
  },
  {
   "cell_type": "markdown",
   "metadata": {},
   "source": [
    "We specify the objective function with the ``@objective`` macro."
   ]
  },
  {
   "cell_type": "code",
   "execution_count": null,
   "metadata": {},
   "outputs": [],
   "source": [
    "@objective(model, Max, x + 2y)"
   ]
  },
  {
   "cell_type": "code",
   "execution_count": null,
   "metadata": {},
   "outputs": [],
   "source": [
    "model"
   ]
  },
  {
   "cell_type": "markdown",
   "metadata": {},
   "source": [
    "To solve the optimization problem, call the ``optimize!`` function."
   ]
  },
  {
   "cell_type": "code",
   "execution_count": null,
   "metadata": {},
   "outputs": [],
   "source": [
    "optimize!(model)\n",
    "termination_status(model)"
   ]
  },
  {
   "cell_type": "markdown",
   "metadata": {},
   "source": [
    "We can now inspect the solution values and optimal cost."
   ]
  },
  {
   "cell_type": "code",
   "execution_count": null,
   "metadata": {},
   "outputs": [],
   "source": [
    "JuMP.value(x)"
   ]
  },
  {
   "cell_type": "code",
   "execution_count": null,
   "metadata": {},
   "outputs": [],
   "source": [
    "JuMP.value(y)"
   ]
  },
  {
   "cell_type": "code",
   "execution_count": null,
   "metadata": {},
   "outputs": [],
   "source": [
    "JuMP.objective_value(model)"
   ]
  },
  {
   "cell_type": "markdown",
   "metadata": {},
   "source": [
    "# Exercise 1\n",
    "\n",
    "Code and solve the following optimization problem:\n",
    "\n",
    "$$\n",
    "\\begin{align*}\n",
    "\\min_{x,y} \\quad& 3x - y \\\\\n",
    "\\text{s.t.}\\quad& x + 2y \\geq 1 \\\\\n",
    "& x \\geq 0 \\\\\n",
    "& 0 \\leq y \\leq 1.\n",
    "\\end{align*}\n",
    "$$"
   ]
  },
  {
   "cell_type": "code",
   "execution_count": null,
   "metadata": {},
   "outputs": [],
   "source": [
    "model = Model(with_optimizer(Gurobi.Optimizer,TimeLimit=60))\n",
    "@variable(model, x >= 0)\n",
    "@variable(model, 0 <= y <= 1)\n",
    "@constraint(model, x + 2y >= 1)\n",
    "@objective(model, Min, 3x - y)\n",
    "\n",
    "optimize!(model)"
   ]
  },
  {
   "cell_type": "markdown",
   "metadata": {},
   "source": [
    "# Exercise 2\n",
    "\n",
    "Take the problem from exercise 1 and make two copies below.\n",
    "* In the first copy, add a new constraint to make the problem **infeasible** (i.e., there are no values of x and y that satisfy all the constraints)\n",
    "* In the second copy, change the constraints or the objective function to make the problem unbounded (i.e., the optimal solution is infinite)\n",
    "\n",
    "Solve both versions of the problem and look at the ``termination_status`` to see if you have succeeded."
   ]
  },
  {
   "cell_type": "code",
   "execution_count": null,
   "metadata": {},
   "outputs": [],
   "source": [
    "model = Model(with_optimizer(Gurobi.Optimizer,TimeLimit=60))\n",
    "@variable(model, x >= 0)\n",
    "@variable(model, 0 <= y <= 1)\n",
    "@constraint(model, x + 2y >= 1)\n",
    "@constraint(model, x + y <= -1)\n",
    "@objective(model, Min, 3x - y)\n",
    "\n",
    "optimize!(model)\n",
    "termination_status(model)"
   ]
  },
  {
   "cell_type": "code",
   "execution_count": null,
   "metadata": {},
   "outputs": [],
   "source": [
    "model = Model(with_optimizer(Gurobi.Optimizer,TimeLimit=60))\n",
    "@variable(model, x >= 0)\n",
    "@variable(model, 0 <= y <= 1)\n",
    "@constraint(model, x + 2y >= 1)\n",
    "@objective(model, Max, 3x - y)\n",
    "\n",
    "optimize!(model)\n",
    "termination_status(model)"
   ]
  },
  {
   "cell_type": "code",
   "execution_count": null,
   "metadata": {},
   "outputs": [],
   "source": []
  }
 ],
 "metadata": {
  "kernelspec": {
   "display_name": "Julia 1.2.0",
   "language": "julia",
   "name": "julia-1.2"
  },
  "language_info": {
   "file_extension": ".jl",
   "mimetype": "application/julia",
   "name": "julia",
   "version": "1.2.0"
  }
 },
 "nbformat": 4,
 "nbformat_minor": 2
}
