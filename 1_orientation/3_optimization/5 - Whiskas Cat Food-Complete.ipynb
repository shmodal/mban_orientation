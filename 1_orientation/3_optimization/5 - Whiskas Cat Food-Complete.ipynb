{
 "cells": [
  {
   "cell_type": "markdown",
   "metadata": {
    "collapsed": true
   },
   "source": [
    "# Whiskas Cat Food\n",
    "\n",
    "_Adapted from [material](https://twiki.esc.auckland.ac.nz/bin/view/OpsRes/WhiskasCatFoodProblem) by Dept. of Engineering Science, University of Auckland_\n",
    "\n",
    "![](https://i.imgur.com/MlQqMz2.png)\n",
    "\n",
    "Whiskas cat food is manufactured by Uncle Ben's. Uncle Ben's want to produce their cat food products as cheaply as possible while ensuring they meet the stated nutritional analysis requirements shown on the cans: \n",
    "\n",
    "![](https://i.imgur.com/dC2JgQV.jpg)\n",
    "\n",
    "![](https://i.imgur.com/c3Xm7oI.jpg)\n",
    "\n",
    "Thus they want to vary the quantities of each ingredient used (the main ingredients being chicken, beef, mutton, rice, wheat and gel) while still meeting their nutritional standards:\n",
    "\n",
    "![](https://i.imgur.com/ox0gqH2.jpg)\n",
    "\n",
    "The costs of the chicken, beef, and mutton are provided in the file `cost.csv`. (All costs are per 100g.) In this case study, we will ignore the vitamin and mineral ingredients. (Any costs for these are likely to be very small anyway.)\n",
    "\n",
    "Each ingredient contributes to the total weight of protein, fat, fibre and salt in the final product. The contributions (in grams) per 100g of ingredient are given in the file `nutrition.csv`.\n",
    "\n",
    "Our goal is to determine the optimal mix of ingredients to satisfy the nutritional standards at minimal cost.\n",
    "\n",
    "## Problem formulation\n",
    "\n",
    "### Variables\n",
    "\n",
    "Let $0 \\le x_i \\le 1$ be the proportion of the 100g tin that we fill with ingredient $i$.\n",
    "\n",
    "\n",
    "### Constraints\n",
    "\n",
    "We must fill the can:\n",
    "\n",
    "$$ \\sum_i x_i = 1$$\n",
    "\n",
    "We must satisfy the lower and upper bounds, $L_r$ and $U_r$ respectively, of the nutritional requirement $r$ (where $d_{ir}$ is the contribution of ingredient $i$ to requirement $r$)\n",
    "\n",
    "$$ L_r \\le \\sum_i d_{ir} x_i \\le G_r $$ \n",
    "\n",
    "### Objective\n",
    "\n",
    "We want to minimize total cost:\n",
    "\n",
    "$$ \\min \\sum_{i} c_i x_i $$"
   ]
  },
  {
   "cell_type": "markdown",
   "metadata": {},
   "source": [
    "\n",
    "## Reading in the data\n",
    "\n",
    "The data for the problem has been given to us as two separate files, we'll need to read in and merge the data before we go further"
   ]
  },
  {
   "cell_type": "code",
   "execution_count": 1,
   "metadata": {},
   "outputs": [
    {
     "name": "stderr",
     "output_type": "stream",
     "text": [
      "┌ Info: Precompiling DataFramesMeta [1313f7d8-7da2-5740-9ea0-a2ca25f37964]\n",
      "└ @ Base loading.jl:1186\n"
     ]
    }
   ],
   "source": [
    "using DataFrames\n",
    "using DataFramesMeta\n",
    "using CSV"
   ]
  },
  {
   "cell_type": "code",
   "execution_count": 2,
   "metadata": {},
   "outputs": [
    {
     "data": {
      "text/html": [
       "<table class=\"data-frame\"><thead><tr><th></th><th>Column1</th><th>Column2</th></tr><tr><th></th><th>String</th><th>Float64</th></tr></thead><tbody><p>6 rows × 2 columns</p><tr><th>1</th><td>Chicken</td><td>0.13</td></tr><tr><th>2</th><td>Beef</td><td>0.1</td></tr><tr><th>3</th><td>Mutton</td><td>0.1</td></tr><tr><th>4</th><td>Wheat</td><td>0.05</td></tr><tr><th>5</th><td>Rice</td><td>0.02</td></tr><tr><th>6</th><td>Gel</td><td>0.01</td></tr></tbody></table>"
      ],
      "text/latex": [
       "\\begin{tabular}{r|cc}\n",
       "\t& Column1 & Column2\\\\\n",
       "\t\\hline\n",
       "\t& String & Float64\\\\\n",
       "\t\\hline\n",
       "\t1 & Chicken & 0.13 \\\\\n",
       "\t2 & Beef & 0.1 \\\\\n",
       "\t3 & Mutton & 0.1 \\\\\n",
       "\t4 & Wheat & 0.05 \\\\\n",
       "\t5 & Rice & 0.02 \\\\\n",
       "\t6 & Gel & 0.01 \\\\\n",
       "\\end{tabular}\n"
      ],
      "text/plain": [
       "6×2 DataFrame\n",
       "│ Row │ Column1 │ Column2 │\n",
       "│     │ \u001b[90mString\u001b[39m  │ \u001b[90mFloat64\u001b[39m │\n",
       "├─────┼─────────┼─────────┤\n",
       "│ 1   │ Chicken │ 0.13    │\n",
       "│ 2   │ Beef    │ 0.1     │\n",
       "│ 3   │ Mutton  │ 0.1     │\n",
       "│ 4   │ Wheat   │ 0.05    │\n",
       "│ 5   │ Rice    │ 0.02    │\n",
       "│ 6   │ Gel     │ 0.01    │"
      ]
     },
     "execution_count": 2,
     "metadata": {},
     "output_type": "execute_result"
    }
   ],
   "source": [
    "cost = CSV.read(\"cost.csv\", header=false)"
   ]
  },
  {
   "cell_type": "code",
   "execution_count": 3,
   "metadata": {},
   "outputs": [
    {
     "data": {
      "text/html": [
       "<table class=\"data-frame\"><thead><tr><th></th><th>Column1</th><th>Column2</th><th>Column3</th><th>Column4</th><th>Column5</th></tr><tr><th></th><th>String</th><th>Float64</th><th>Float64</th><th>Float64</th><th>Float64</th></tr></thead><tbody><p>6 rows × 5 columns</p><tr><th>1</th><td>Chicken</td><td>10.0</td><td>6.0</td><td>0.1</td><td>0.2</td></tr><tr><th>2</th><td>Beef</td><td>20.0</td><td>12.0</td><td>0.4</td><td>0.5</td></tr><tr><th>3</th><td>Mutton</td><td>15.0</td><td>11.0</td><td>0.3</td><td>0.7</td></tr><tr><th>4</th><td>Rice</td><td>0.0</td><td>1.0</td><td>10.0</td><td>0.2</td></tr><tr><th>5</th><td>Wheat</td><td>4.0</td><td>1.0</td><td>15.0</td><td>0.8</td></tr><tr><th>6</th><td>Gel</td><td>0.0</td><td>0.0</td><td>0.0</td><td>0.0</td></tr></tbody></table>"
      ],
      "text/latex": [
       "\\begin{tabular}{r|ccccc}\n",
       "\t& Column1 & Column2 & Column3 & Column4 & Column5\\\\\n",
       "\t\\hline\n",
       "\t& String & Float64 & Float64 & Float64 & Float64\\\\\n",
       "\t\\hline\n",
       "\t1 & Chicken & 10.0 & 6.0 & 0.1 & 0.2 \\\\\n",
       "\t2 & Beef & 20.0 & 12.0 & 0.4 & 0.5 \\\\\n",
       "\t3 & Mutton & 15.0 & 11.0 & 0.3 & 0.7 \\\\\n",
       "\t4 & Rice & 0.0 & 1.0 & 10.0 & 0.2 \\\\\n",
       "\t5 & Wheat & 4.0 & 1.0 & 15.0 & 0.8 \\\\\n",
       "\t6 & Gel & 0.0 & 0.0 & 0.0 & 0.0 \\\\\n",
       "\\end{tabular}\n"
      ],
      "text/plain": [
       "6×5 DataFrame\n",
       "│ Row │ Column1 │ Column2 │ Column3 │ Column4 │ Column5 │\n",
       "│     │ \u001b[90mString\u001b[39m  │ \u001b[90mFloat64\u001b[39m │ \u001b[90mFloat64\u001b[39m │ \u001b[90mFloat64\u001b[39m │ \u001b[90mFloat64\u001b[39m │\n",
       "├─────┼─────────┼─────────┼─────────┼─────────┼─────────┤\n",
       "│ 1   │ Chicken │ 10.0    │ 6.0     │ 0.1     │ 0.2     │\n",
       "│ 2   │ Beef    │ 20.0    │ 12.0    │ 0.4     │ 0.5     │\n",
       "│ 3   │ Mutton  │ 15.0    │ 11.0    │ 0.3     │ 0.7     │\n",
       "│ 4   │ Rice    │ 0.0     │ 1.0     │ 10.0    │ 0.2     │\n",
       "│ 5   │ Wheat   │ 4.0     │ 1.0     │ 15.0    │ 0.8     │\n",
       "│ 6   │ Gel     │ 0.0     │ 0.0     │ 0.0     │ 0.0     │"
      ]
     },
     "execution_count": 3,
     "metadata": {},
     "output_type": "execute_result"
    }
   ],
   "source": [
    "nutrition = CSV.read(\"nutrition.csv\", header=false)"
   ]
  },
  {
   "cell_type": "markdown",
   "metadata": {},
   "source": [
    "Let's rename the columns to make it easier to work with"
   ]
  },
  {
   "cell_type": "code",
   "execution_count": 4,
   "metadata": {},
   "outputs": [
    {
     "data": {
      "text/html": [
       "<table class=\"data-frame\"><thead><tr><th></th><th>ingredient</th><th>protein</th><th>fat</th><th>fibre</th><th>salt</th></tr><tr><th></th><th>String</th><th>Float64</th><th>Float64</th><th>Float64</th><th>Float64</th></tr></thead><tbody><p>6 rows × 5 columns</p><tr><th>1</th><td>Chicken</td><td>10.0</td><td>6.0</td><td>0.1</td><td>0.2</td></tr><tr><th>2</th><td>Beef</td><td>20.0</td><td>12.0</td><td>0.4</td><td>0.5</td></tr><tr><th>3</th><td>Mutton</td><td>15.0</td><td>11.0</td><td>0.3</td><td>0.7</td></tr><tr><th>4</th><td>Rice</td><td>0.0</td><td>1.0</td><td>10.0</td><td>0.2</td></tr><tr><th>5</th><td>Wheat</td><td>4.0</td><td>1.0</td><td>15.0</td><td>0.8</td></tr><tr><th>6</th><td>Gel</td><td>0.0</td><td>0.0</td><td>0.0</td><td>0.0</td></tr></tbody></table>"
      ],
      "text/latex": [
       "\\begin{tabular}{r|ccccc}\n",
       "\t& ingredient & protein & fat & fibre & salt\\\\\n",
       "\t\\hline\n",
       "\t& String & Float64 & Float64 & Float64 & Float64\\\\\n",
       "\t\\hline\n",
       "\t1 & Chicken & 10.0 & 6.0 & 0.1 & 0.2 \\\\\n",
       "\t2 & Beef & 20.0 & 12.0 & 0.4 & 0.5 \\\\\n",
       "\t3 & Mutton & 15.0 & 11.0 & 0.3 & 0.7 \\\\\n",
       "\t4 & Rice & 0.0 & 1.0 & 10.0 & 0.2 \\\\\n",
       "\t5 & Wheat & 4.0 & 1.0 & 15.0 & 0.8 \\\\\n",
       "\t6 & Gel & 0.0 & 0.0 & 0.0 & 0.0 \\\\\n",
       "\\end{tabular}\n"
      ],
      "text/plain": [
       "6×5 DataFrame\n",
       "│ Row │ ingredient │ protein │ fat     │ fibre   │ salt    │\n",
       "│     │ \u001b[90mString\u001b[39m     │ \u001b[90mFloat64\u001b[39m │ \u001b[90mFloat64\u001b[39m │ \u001b[90mFloat64\u001b[39m │ \u001b[90mFloat64\u001b[39m │\n",
       "├─────┼────────────┼─────────┼─────────┼─────────┼─────────┤\n",
       "│ 1   │ Chicken    │ 10.0    │ 6.0     │ 0.1     │ 0.2     │\n",
       "│ 2   │ Beef       │ 20.0    │ 12.0    │ 0.4     │ 0.5     │\n",
       "│ 3   │ Mutton     │ 15.0    │ 11.0    │ 0.3     │ 0.7     │\n",
       "│ 4   │ Rice       │ 0.0     │ 1.0     │ 10.0    │ 0.2     │\n",
       "│ 5   │ Wheat      │ 4.0     │ 1.0     │ 15.0    │ 0.8     │\n",
       "│ 6   │ Gel        │ 0.0     │ 0.0     │ 0.0     │ 0.0     │"
      ]
     },
     "execution_count": 4,
     "metadata": {},
     "output_type": "execute_result"
    }
   ],
   "source": [
    "names!(cost, [:ingredient, :cost])\n",
    "names!(nutrition, [:ingredient, :protein, :fat, :fibre, :salt])"
   ]
  },
  {
   "cell_type": "markdown",
   "metadata": {},
   "source": [
    "Now we need to combine the tables into a single DataFrame. If the rows were in the same order, we could just merge the tables directly:"
   ]
  },
  {
   "cell_type": "code",
   "execution_count": 5,
   "metadata": {},
   "outputs": [
    {
     "data": {
      "text/html": [
       "<table class=\"data-frame\"><thead><tr><th></th><th>ingredient</th><th>cost</th><th>protein</th><th>fat</th><th>fibre</th><th>salt</th></tr><tr><th></th><th>String</th><th>Float64</th><th>Float64</th><th>Float64</th><th>Float64</th><th>Float64</th></tr></thead><tbody><p>6 rows × 6 columns</p><tr><th>1</th><td>Chicken</td><td>0.13</td><td>10.0</td><td>6.0</td><td>0.1</td><td>0.2</td></tr><tr><th>2</th><td>Beef</td><td>0.1</td><td>20.0</td><td>12.0</td><td>0.4</td><td>0.5</td></tr><tr><th>3</th><td>Mutton</td><td>0.1</td><td>15.0</td><td>11.0</td><td>0.3</td><td>0.7</td></tr><tr><th>4</th><td>Wheat</td><td>0.05</td><td>0.0</td><td>1.0</td><td>10.0</td><td>0.2</td></tr><tr><th>5</th><td>Rice</td><td>0.02</td><td>4.0</td><td>1.0</td><td>15.0</td><td>0.8</td></tr><tr><th>6</th><td>Gel</td><td>0.01</td><td>0.0</td><td>0.0</td><td>0.0</td><td>0.0</td></tr></tbody></table>"
      ],
      "text/latex": [
       "\\begin{tabular}{r|cccccc}\n",
       "\t& ingredient & cost & protein & fat & fibre & salt\\\\\n",
       "\t\\hline\n",
       "\t& String & Float64 & Float64 & Float64 & Float64 & Float64\\\\\n",
       "\t\\hline\n",
       "\t1 & Chicken & 0.13 & 10.0 & 6.0 & 0.1 & 0.2 \\\\\n",
       "\t2 & Beef & 0.1 & 20.0 & 12.0 & 0.4 & 0.5 \\\\\n",
       "\t3 & Mutton & 0.1 & 15.0 & 11.0 & 0.3 & 0.7 \\\\\n",
       "\t4 & Wheat & 0.05 & 0.0 & 1.0 & 10.0 & 0.2 \\\\\n",
       "\t5 & Rice & 0.02 & 4.0 & 1.0 & 15.0 & 0.8 \\\\\n",
       "\t6 & Gel & 0.01 & 0.0 & 0.0 & 0.0 & 0.0 \\\\\n",
       "\\end{tabular}\n"
      ],
      "text/plain": [
       "6×6 DataFrame\n",
       "│ Row │ ingredient │ cost    │ protein │ fat     │ fibre   │ salt    │\n",
       "│     │ \u001b[90mString\u001b[39m     │ \u001b[90mFloat64\u001b[39m │ \u001b[90mFloat64\u001b[39m │ \u001b[90mFloat64\u001b[39m │ \u001b[90mFloat64\u001b[39m │ \u001b[90mFloat64\u001b[39m │\n",
       "├─────┼────────────┼─────────┼─────────┼─────────┼─────────┼─────────┤\n",
       "│ 1   │ Chicken    │ 0.13    │ 10.0    │ 6.0     │ 0.1     │ 0.2     │\n",
       "│ 2   │ Beef       │ 0.1     │ 20.0    │ 12.0    │ 0.4     │ 0.5     │\n",
       "│ 3   │ Mutton     │ 0.1     │ 15.0    │ 11.0    │ 0.3     │ 0.7     │\n",
       "│ 4   │ Wheat      │ 0.05    │ 0.0     │ 1.0     │ 10.0    │ 0.2     │\n",
       "│ 5   │ Rice       │ 0.02    │ 4.0     │ 1.0     │ 15.0    │ 0.8     │\n",
       "│ 6   │ Gel        │ 0.01    │ 0.0     │ 0.0     │ 0.0     │ 0.0     │"
      ]
     },
     "execution_count": 5,
     "metadata": {},
     "output_type": "execute_result"
    }
   ],
   "source": [
    "data = [cost nutrition[:,2:end]]"
   ]
  },
  {
   "cell_type": "markdown",
   "metadata": {},
   "source": [
    "But in our case, the rows are in different orders in each table. We should  combine the tables by _joining_ them with the ingredient as the ID."
   ]
  },
  {
   "cell_type": "code",
   "execution_count": 6,
   "metadata": {},
   "outputs": [
    {
     "data": {
      "text/html": [
       "<table class=\"data-frame\"><thead><tr><th></th><th>ingredient</th><th>cost</th><th>protein</th><th>fat</th><th>fibre</th><th>salt</th></tr><tr><th></th><th>String</th><th>Float64</th><th>Float64</th><th>Float64</th><th>Float64</th><th>Float64</th></tr></thead><tbody><p>6 rows × 6 columns</p><tr><th>1</th><td>Chicken</td><td>0.13</td><td>10.0</td><td>6.0</td><td>0.1</td><td>0.2</td></tr><tr><th>2</th><td>Beef</td><td>0.1</td><td>20.0</td><td>12.0</td><td>0.4</td><td>0.5</td></tr><tr><th>3</th><td>Mutton</td><td>0.1</td><td>15.0</td><td>11.0</td><td>0.3</td><td>0.7</td></tr><tr><th>4</th><td>Wheat</td><td>0.05</td><td>4.0</td><td>1.0</td><td>15.0</td><td>0.8</td></tr><tr><th>5</th><td>Rice</td><td>0.02</td><td>0.0</td><td>1.0</td><td>10.0</td><td>0.2</td></tr><tr><th>6</th><td>Gel</td><td>0.01</td><td>0.0</td><td>0.0</td><td>0.0</td><td>0.0</td></tr></tbody></table>"
      ],
      "text/latex": [
       "\\begin{tabular}{r|cccccc}\n",
       "\t& ingredient & cost & protein & fat & fibre & salt\\\\\n",
       "\t\\hline\n",
       "\t& String & Float64 & Float64 & Float64 & Float64 & Float64\\\\\n",
       "\t\\hline\n",
       "\t1 & Chicken & 0.13 & 10.0 & 6.0 & 0.1 & 0.2 \\\\\n",
       "\t2 & Beef & 0.1 & 20.0 & 12.0 & 0.4 & 0.5 \\\\\n",
       "\t3 & Mutton & 0.1 & 15.0 & 11.0 & 0.3 & 0.7 \\\\\n",
       "\t4 & Wheat & 0.05 & 4.0 & 1.0 & 15.0 & 0.8 \\\\\n",
       "\t5 & Rice & 0.02 & 0.0 & 1.0 & 10.0 & 0.2 \\\\\n",
       "\t6 & Gel & 0.01 & 0.0 & 0.0 & 0.0 & 0.0 \\\\\n",
       "\\end{tabular}\n"
      ],
      "text/plain": [
       "6×6 DataFrame\n",
       "│ Row │ ingredient │ cost    │ protein │ fat     │ fibre   │ salt    │\n",
       "│     │ \u001b[90mString\u001b[39m     │ \u001b[90mFloat64\u001b[39m │ \u001b[90mFloat64\u001b[39m │ \u001b[90mFloat64\u001b[39m │ \u001b[90mFloat64\u001b[39m │ \u001b[90mFloat64\u001b[39m │\n",
       "├─────┼────────────┼─────────┼─────────┼─────────┼─────────┼─────────┤\n",
       "│ 1   │ Chicken    │ 0.13    │ 10.0    │ 6.0     │ 0.1     │ 0.2     │\n",
       "│ 2   │ Beef       │ 0.1     │ 20.0    │ 12.0    │ 0.4     │ 0.5     │\n",
       "│ 3   │ Mutton     │ 0.1     │ 15.0    │ 11.0    │ 0.3     │ 0.7     │\n",
       "│ 4   │ Wheat      │ 0.05    │ 4.0     │ 1.0     │ 15.0    │ 0.8     │\n",
       "│ 5   │ Rice       │ 0.02    │ 0.0     │ 1.0     │ 10.0    │ 0.2     │\n",
       "│ 6   │ Gel        │ 0.01    │ 0.0     │ 0.0     │ 0.0     │ 0.0     │"
      ]
     },
     "execution_count": 6,
     "metadata": {},
     "output_type": "execute_result"
    }
   ],
   "source": [
    "data = join(cost, nutrition; on=:ingredient)"
   ]
  },
  {
   "cell_type": "markdown",
   "metadata": {},
   "source": [
    "We also need to encode the requirements (lower and upper bound) for each nutrient. To do this, we'll use _dictionaries_."
   ]
  },
  {
   "cell_type": "code",
   "execution_count": 7,
   "metadata": {},
   "outputs": [
    {
     "name": "stdout",
     "output_type": "stream",
     "text": [
      "Symbol[:protein, :fat, :fibre, :salt]\n",
      "min_requirements[:fat] = 6\n",
      "max_requirements[:salt] = 0.4\n"
     ]
    },
    {
     "data": {
      "text/plain": [
       "0.4"
      ]
     },
     "execution_count": 7,
     "metadata": {},
     "output_type": "execute_result"
    }
   ],
   "source": [
    "nutrients = names(nutrition)[2:end]\n",
    "println(nutrients)\n",
    "\n",
    "min_requirements = Dict(\n",
    "    :protein => 8, \n",
    "    :fat     => 6,\n",
    "    :fibre   => 0,\n",
    "    :salt    => 0,\n",
    ")\n",
    "\n",
    "upper = [Inf, Inf, 2, 0.4]\n",
    "\n",
    "max_requirements = Dict( [nutrients[i] => upper[i] for i=1:4] )\n",
    "\n",
    "@show min_requirements[:fat]   # Lower limit on fat\n",
    "@show max_requirements[:salt]  # Upper limit on salt"
   ]
  },
  {
   "cell_type": "markdown",
   "metadata": {},
   "source": [
    "Great, now the data is together and correct!\n",
    "\n",
    "We can now code up our optimization model:"
   ]
  },
  {
   "cell_type": "code",
   "execution_count": 10,
   "metadata": {},
   "outputs": [
    {
     "data": {
      "text/plain": [
       "find_optimal_mix (generic function with 2 methods)"
      ]
     },
     "execution_count": 10,
     "metadata": {},
     "output_type": "execute_result"
    }
   ],
   "source": [
    "using JuMP, Gurobi\n",
    "\n",
    "function find_optimal_mix(data, min_requirements, max_requirements)\n",
    "    n = nrow(data)\n",
    "    \n",
    "    m = Model(with_optimizer(Gurobi.Optimizer,TimeLimit=60))\n",
    "    \n",
    "    @variable(m, x[1:n] >= 0)\n",
    "    \n",
    "    @objective(m, Min, sum(data[i, :cost] * x[i] for i = 1:n))\n",
    "    \n",
    "    for r in nutrients\n",
    "         @constraint(m, min_requirements[r] <= sum(data[i, r] * x[i] for i = 1:n) <= max_requirements[r])\n",
    "    end\n",
    "\n",
    "    @constraint(m, sum(x) == 1)\n",
    "    \n",
    "    optimize!(m)\n",
    "    \n",
    "    return(JuMP.value.(x))\n",
    "end"
   ]
  },
  {
   "cell_type": "markdown",
   "metadata": {},
   "source": [
    "Now we can solve it!"
   ]
  },
  {
   "cell_type": "code",
   "execution_count": 11,
   "metadata": {},
   "outputs": [
    {
     "name": "stdout",
     "output_type": "stream",
     "text": [
      "Academic license - for non-commercial use only\r\n",
      "Academic license - for non-commercial use only\r\n",
      "Optimize a model with 5 rows, 10 columns and 29 nonzeros\r\n",
      "Coefficient statistics:\r\n",
      "  Matrix range     [1e-01, 2e+01]\r\n",
      "  Objective range  [1e-02, 1e-01]\r\n",
      "  Bounds range     [4e-01, 8e+00]\r\n",
      "  RHS range        [1e+00, 1e+00]\r\n",
      "Presolve removed 0 rows and 4 columns\r\n",
      "Presolve time: 0.03s\r\n",
      "Presolved: 5 rows, 6 columns, 25 nonzeros\r\n",
      "\r\n",
      "Iteration    Objective       Primal Inf.    Dual Inf.      Time\r\n",
      "       0    1.0000000e-02   1.750000e+00   0.000000e+00      0s\r\n",
      "       2    5.5000000e-02   0.000000e+00   0.000000e+00      0s\r\n",
      "\r\n",
      "Solved in 2 iterations and 0.03 seconds\r\n",
      "Optimal objective  5.500000000e-02\r\n"
     ]
    },
    {
     "data": {
      "text/html": [
       "<table class=\"data-frame\"><thead><tr><th></th><th>ingredient</th><th>mix</th></tr><tr><th></th><th>String</th><th>Float64</th></tr></thead><tbody><p>6 rows × 2 columns</p><tr><th>1</th><td>Chicken</td><td>0.0</td></tr><tr><th>2</th><td>Beef</td><td>0.5</td></tr><tr><th>3</th><td>Mutton</td><td>0.0</td></tr><tr><th>4</th><td>Wheat</td><td>0.0</td></tr><tr><th>5</th><td>Rice</td><td>0.0</td></tr><tr><th>6</th><td>Gel</td><td>0.5</td></tr></tbody></table>"
      ],
      "text/latex": [
       "\\begin{tabular}{r|cc}\n",
       "\t& ingredient & mix\\\\\n",
       "\t\\hline\n",
       "\t& String & Float64\\\\\n",
       "\t\\hline\n",
       "\t1 & Chicken & 0.0 \\\\\n",
       "\t2 & Beef & 0.5 \\\\\n",
       "\t3 & Mutton & 0.0 \\\\\n",
       "\t4 & Wheat & 0.0 \\\\\n",
       "\t5 & Rice & 0.0 \\\\\n",
       "\t6 & Gel & 0.5 \\\\\n",
       "\\end{tabular}\n"
      ],
      "text/plain": [
       "6×2 DataFrame\n",
       "│ Row │ ingredient │ mix     │\n",
       "│     │ \u001b[90mString\u001b[39m     │ \u001b[90mFloat64\u001b[39m │\n",
       "├─────┼────────────┼─────────┤\n",
       "│ 1   │ Chicken    │ 0.0     │\n",
       "│ 2   │ Beef       │ 0.5     │\n",
       "│ 3   │ Mutton     │ 0.0     │\n",
       "│ 4   │ Wheat      │ 0.0     │\n",
       "│ 5   │ Rice       │ 0.0     │\n",
       "│ 6   │ Gel        │ 0.5     │"
      ]
     },
     "execution_count": 11,
     "metadata": {},
     "output_type": "execute_result"
    }
   ],
   "source": [
    "mix = find_optimal_mix(data, min_requirements, max_requirements)\n",
    "\n",
    "optimal_mix = DataFrame(ingredient=data[!,:ingredient], mix=mix)"
   ]
  },
  {
   "cell_type": "markdown",
   "metadata": {},
   "source": [
    "## Exercise\n",
    "\n",
    "What's the cost of this mix?"
   ]
  },
  {
   "cell_type": "code",
   "execution_count": 12,
   "metadata": {},
   "outputs": [
    {
     "data": {
      "text/plain": [
       "0.055"
      ]
     },
     "execution_count": 12,
     "metadata": {},
     "output_type": "execute_result"
    }
   ],
   "source": [
    "cost_data = join(data, optimal_mix; on=:ingredient)\n",
    "\n",
    "sum(cost_data[!,:cost].*cost_data[!,:mix])"
   ]
  },
  {
   "cell_type": "markdown",
   "metadata": {},
   "source": [
    "How can we present the results?"
   ]
  },
  {
   "cell_type": "code",
   "execution_count": 13,
   "metadata": {},
   "outputs": [
    {
     "data": {
      "image/png": "[encoded data removed]"
     },
     "execution_count": 13,
     "metadata": {},
     "output_type": "execute_result"
    }
   ],
   "source": [
    "using StatsPlots\n",
    "pyplot()\n",
    "bar(optimal_mix[!,:ingredient], optimal_mix[!,:mix])"
   ]
  },
  {
   "cell_type": "markdown",
   "metadata": {},
   "source": [
    "It's probably not reasonable that half of the food is just filler! Now let's suppose that Whiskas has a rule that only 30% of the contents can be gel. Modify the model and get the new optimal mix. How does it compare to the original solution?"
   ]
  },
  {
   "cell_type": "code",
   "execution_count": 14,
   "metadata": {},
   "outputs": [
    {
     "name": "stdout",
     "output_type": "stream",
     "text": [
      "Academic license - for non-commercial use only\r\n",
      "Academic license - for non-commercial use only\r\n",
      "Optimize a model with 6 rows, 10 columns and 30 nonzeros\r\n",
      "Coefficient statistics:\r\n",
      "  Matrix range     [1e-01, 2e+01]\r\n",
      "  Objective range  [1e-02, 1e-01]\r\n",
      "  Bounds range     [4e-01, 8e+00]\r\n",
      "  RHS range        [3e-01, 1e+00]\r\n",
      "Presolve removed 1 rows and 4 columns\r\n",
      "Presolve time: 0.00s\r\n",
      "Presolved: 5 rows, 6 columns, 25 nonzeros\r\n",
      "\r\n",
      "Iteration    Objective       Primal Inf.    Dual Inf.      Time\r\n",
      "       0    1.0000000e-02   2.450000e+00   0.000000e+00      0s\r\n",
      "       5    5.8345794e-02   0.000000e+00   0.000000e+00      0s\r\n",
      "\r\n",
      "Solved in 5 iterations and 0.00 seconds\r\n",
      "Optimal objective  5.834579439e-02\r\n"
     ]
    },
    {
     "data": {
      "text/html": [
       "<table class=\"data-frame\"><thead><tr><th></th><th>ingredient</th><th>mix</th></tr><tr><th></th><th>String</th><th>Float64</th></tr></thead><tbody><p>6 rows × 2 columns</p><tr><th>1</th><td>Chicken</td><td>0.0</td></tr><tr><th>2</th><td>Beef</td><td>0.131776</td></tr><tr><th>3</th><td>Mutton</td><td>0.385047</td></tr><tr><th>4</th><td>Wheat</td><td>0.0</td></tr><tr><th>5</th><td>Rice</td><td>0.183178</td></tr><tr><th>6</th><td>Gel</td><td>0.3</td></tr></tbody></table>"
      ],
      "text/latex": [
       "\\begin{tabular}{r|cc}\n",
       "\t& ingredient & mix\\\\\n",
       "\t\\hline\n",
       "\t& String & Float64\\\\\n",
       "\t\\hline\n",
       "\t1 & Chicken & 0.0 \\\\\n",
       "\t2 & Beef & 0.131776 \\\\\n",
       "\t3 & Mutton & 0.385047 \\\\\n",
       "\t4 & Wheat & 0.0 \\\\\n",
       "\t5 & Rice & 0.183178 \\\\\n",
       "\t6 & Gel & 0.3 \\\\\n",
       "\\end{tabular}\n"
      ],
      "text/plain": [
       "6×2 DataFrame\n",
       "│ Row │ ingredient │ mix      │\n",
       "│     │ \u001b[90mString\u001b[39m     │ \u001b[90mFloat64\u001b[39m  │\n",
       "├─────┼────────────┼──────────┤\n",
       "│ 1   │ Chicken    │ 0.0      │\n",
       "│ 2   │ Beef       │ 0.131776 │\n",
       "│ 3   │ Mutton     │ 0.385047 │\n",
       "│ 4   │ Wheat      │ 0.0      │\n",
       "│ 5   │ Rice       │ 0.183178 │\n",
       "│ 6   │ Gel        │ 0.3      │"
      ]
     },
     "execution_count": 14,
     "metadata": {},
     "output_type": "execute_result"
    }
   ],
   "source": [
    "function find_optimal_mix2(data, min_requirements, max_requirements)\n",
    "    n = nrow(data)\n",
    "    \n",
    "    m = Model(with_optimizer(Gurobi.Optimizer,TimeLimit=60))\n",
    "    \n",
    "    @variable(m, x[1:n] >= 0)\n",
    "    \n",
    "    @objective(m, Min, sum(data[i, :cost] * x[i] for i = 1:n))\n",
    "    \n",
    "    for r in nutrients\n",
    "         @constraint(m, min_requirements[r] <= sum(data[i, r] * x[i] for i = 1:n) <= max_requirements[r])\n",
    "    end\n",
    "    \n",
    "    @constraint(m, x[data[!,:ingredient] .== \"Gel\"] .<= 0.3)\n",
    "\n",
    "    @constraint(m, sum(x) == 1)\n",
    "    \n",
    "    optimize!(m)\n",
    "    \n",
    "    return(JuMP.value.(x))\n",
    "    \n",
    "\n",
    "end\n",
    "\n",
    "mix2 = find_optimal_mix2(data, min_requirements, max_requirements)\n",
    "\n",
    "optimal_mix2 = DataFrame(ingredient=data[!,:ingredient], mix=mix2)\n",
    "\n"
   ]
  },
  {
   "cell_type": "code",
   "execution_count": 15,
   "metadata": {},
   "outputs": [
    {
     "data": {
      "text/plain": [
       "0.05834579439252337"
      ]
     },
     "execution_count": 15,
     "metadata": {},
     "output_type": "execute_result"
    }
   ],
   "source": [
    "cost_data2 = join(data, optimal_mix2; on=:ingredient)\n",
    "sum(cost_data2[!,:cost].*cost_data2[!,:mix])"
   ]
  },
  {
   "cell_type": "code",
   "execution_count": 16,
   "metadata": {},
   "outputs": [
    {
     "data": {
      "image/png": "[encoded data removed]"
     },
     "execution_count": 16,
     "metadata": {},
     "output_type": "execute_result"
    }
   ],
   "source": [
    "bar(optimal_mix2[!,:ingredient], optimal_mix2[!,:mix])"
   ]
  },
  {
   "cell_type": "code",
   "execution_count": null,
   "metadata": {
    "collapsed": true
   },
   "outputs": [],
   "source": []
  }
 ],
 "metadata": {
  "kernelspec": {
   "display_name": "Julia 1.2.0",
   "language": "julia",
   "name": "julia-1.2"
  },
  "language_info": {
   "file_extension": ".jl",
   "mimetype": "application/julia",
   "name": "julia",
   "version": "1.2.0"
  }
 },
 "nbformat": 4,
 "nbformat_minor": 2
}
