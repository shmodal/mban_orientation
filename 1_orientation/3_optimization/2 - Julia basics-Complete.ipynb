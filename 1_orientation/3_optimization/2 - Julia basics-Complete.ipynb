{
 "cells": [
  {
   "cell_type": "markdown",
   "metadata": {},
   "source": [
    "# Jupyter notebooks\n",
    "\n",
    "Jupyter notebooks are a convenient way to write and run code in interactive Julia sessions. This can be really useful when you are exploring data or writing code that runs over multiple lines.\n",
    "Notebooks can also display formatted text (like this cell) and images.\n",
    "\n",
    "In this notebook we're going to look at two basic concepts: **loops** and **functions**."
   ]
  },
  {
   "cell_type": "markdown",
   "metadata": {},
   "source": [
    "## For loops\n",
    "A **for** loop is a piece of code that repeats the same calculation multiple times."
   ]
  },
  {
   "cell_type": "code",
   "execution_count": null,
   "metadata": {},
   "outputs": [],
   "source": [
    "for i=1:5\n",
    "    println(i)\n",
    "end"
   ]
  },
  {
   "cell_type": "markdown",
   "metadata": {},
   "source": [
    "In Julia, for loops can iterate over any array."
   ]
  },
  {
   "cell_type": "code",
   "execution_count": null,
   "metadata": {},
   "outputs": [],
   "source": [
    "v = [\"alpha\",\"beta\"]\n",
    "for i in v\n",
    "    println(i)\n",
    "end"
   ]
  },
  {
   "cell_type": "markdown",
   "metadata": {},
   "source": [
    "## If statement\n",
    "An **if** statement evaluates a condition and only runs code if the condition is `true`. If the condition is `false`, the inner code is ignored.\n",
    "\n",
    "We can include several conditions in the same if statement by adding an **elseif** condition. If we add an **else** statement at the end, this code will run if none of the previous conditions were `true`. "
   ]
  },
  {
   "cell_type": "code",
   "execution_count": null,
   "metadata": {},
   "outputs": [],
   "source": [
    "# if the number is less that 3, print it. \n",
    "# if the number is equal to 4, add 2 and print the result\n",
    "# for other numbers print \"skip!\"\n",
    "x = 4\n",
    "\n",
    "if x<3\n",
    "    println(x)\n",
    "elseif x==4\n",
    "    println(x+2)\n",
    "else\n",
    "    println(\"skip\")\n",
    "end"
   ]
  },
  {
   "cell_type": "markdown",
   "metadata": {},
   "source": [
    "## Exercise\n",
    "Write a for loop to evaluate the if statement (above) on the numbers 1 to 5."
   ]
  },
  {
   "cell_type": "code",
   "execution_count": null,
   "metadata": {},
   "outputs": [],
   "source": [
    "for x=1:5\n",
    "    if x<3\n",
    "        println(x)\n",
    "    elseif x==4\n",
    "        println(x+2)\n",
    "    else\n",
    "        println(\"skip\")\n",
    "    end\n",
    "end"
   ]
  },
  {
   "cell_type": "markdown",
   "metadata": {},
   "source": [
    "# While loop\n",
    "A **while** loop is a combination of  **for** and **if**. If the **while** condition is `true`, it evaluates the code inside the loop and then returns to check the condition again. It will keep evaluating the inner code until the condition is no longer `true`.\n",
    "\n",
    "Note: when writing while loops, make sure that the condition will eventually be `false` to avoid an infinite loop!            "
   ]
  },
  {
   "cell_type": "code",
   "execution_count": null,
   "metadata": {},
   "outputs": [],
   "source": [
    "# while loop\n",
    "i = 1\n",
    "while i<5\n",
    "    println(i)\n",
    "    i += 1 # this is just a quicker way of saying i = i + 1\n",
    "end"
   ]
  },
  {
   "cell_type": "markdown",
   "metadata": {},
   "source": [
    "# Functions\n",
    "We've already learned how to use built-in functions in `R` and Julia. You can also write your own functions to store and re-use code that you'll need to run many times. In Julia, functions are especially beneficial because Julia's built-in complier will learn how to run them efficiently.\n",
    "\n",
    "Each function has a few basic components:\n",
    "* name (this is what you will use to run the function)\n",
    "* arguments/input data\n",
    "* body (code that runs in the function)\n",
    "* output"
   ]
  },
  {
   "cell_type": "code",
   "execution_count": null,
   "metadata": {},
   "outputs": [],
   "source": [
    "function addOne(x) # name(arguments)\n",
    "    # body of the function\n",
    "    y = x+1\n",
    "    return(y) # output\n",
    "end\n",
    "\n",
    "addOne(5)"
   ]
  },
  {
   "cell_type": "code",
   "execution_count": null,
   "metadata": {},
   "outputs": [],
   "source": [
    "# function\n",
    "function Maximum(a,b) # name(arguments)\n",
    "    # body of the function\n",
    "    if a>b\n",
    "        println(\"$a is bigger than $b\")\n",
    "        return(a) # output\n",
    "    elseif b>a\n",
    "        println(\"$b is bigger than $a\")\n",
    "        return(b) # output\n",
    "    elseif b==a\n",
    "        println(\"$a is equal to $b\")\n",
    "        return(a) # output\n",
    "    end\n",
    "end"
   ]
  },
  {
   "cell_type": "code",
   "execution_count": null,
   "metadata": {},
   "outputs": [],
   "source": [
    "m = Maximum(2,1)\n",
    "println(\"m=$m\")"
   ]
  },
  {
   "cell_type": "markdown",
   "metadata": {},
   "source": [
    "# Exercise\n",
    "\n",
    "Write a function that takes in a 1D array of numbers and returns another array containing only the even numbers from the first array. Hint: a number x is even if we divide it by 2 and get a remainder of 0. In Julia, use x%2 to calculate the remainder.\n",
    "\n",
    "## Advanced exercise\n",
    "Functions can behave in unexpected ways if their input doesn't match the expected type. For example, try running one of the functions above with strings as inputs.\n",
    "Look up the try/catch statement here: https://docs.julialang.org/en/v1/manual/control-flow/#Exception-Handling-1. Can you implement this to provide a warning if the function code doesn't succeed?"
   ]
  },
  {
   "cell_type": "code",
   "execution_count": null,
   "metadata": {},
   "outputs": [],
   "source": []
  }
 ],
 "metadata": {
  "kernelspec": {
   "display_name": "Julia 1.2.0",
   "language": "julia",
   "name": "julia-1.2"
  },
  "language_info": {
   "file_extension": ".jl",
   "mimetype": "application/julia",
   "name": "julia",
   "version": "1.2.0"
  }
 },
 "nbformat": 4,
 "nbformat_minor": 2
}
